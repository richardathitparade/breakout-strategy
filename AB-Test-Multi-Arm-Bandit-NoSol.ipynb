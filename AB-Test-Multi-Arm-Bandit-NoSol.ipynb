{
 "cells": [
  {
   "cell_type": "markdown",
   "metadata": {},
   "source": [
    "# A/B Testing and Multi-Arm Bandit for Data Science\n",
    "\n",
    "Carlos Afonso, [NYC Data Science Academy](https://nycdatascience.com)"
   ]
  },
  {
   "cell_type": "code",
   "execution_count": 1,
   "metadata": {},
   "outputs": [
    {
     "ename": "ModuleNotFoundError",
     "evalue": "No module named 'matplotlib'",
     "output_type": "error",
     "traceback": [
      "\u001b[0;31m---------------------------------------------------------------------------\u001b[0m",
      "\u001b[0;31mModuleNotFoundError\u001b[0m                       Traceback (most recent call last)",
      "\u001b[0;32m<ipython-input-1-87fe6eb8a447>\u001b[0m in \u001b[0;36m<module>\u001b[0;34m\u001b[0m\n\u001b[1;32m      1\u001b[0m \u001b[0;31m# Import libraries\u001b[0m\u001b[0;34m\u001b[0m\u001b[0;34m\u001b[0m\u001b[0;34m\u001b[0m\u001b[0m\n\u001b[0;32m----> 2\u001b[0;31m \u001b[0;32mimport\u001b[0m \u001b[0mmatplotlib\u001b[0m\u001b[0;34m.\u001b[0m\u001b[0mpyplot\u001b[0m \u001b[0;32mas\u001b[0m \u001b[0mplt\u001b[0m\u001b[0;34m\u001b[0m\u001b[0;34m\u001b[0m\u001b[0m\n\u001b[0m\u001b[1;32m      3\u001b[0m \u001b[0;32mimport\u001b[0m \u001b[0mrandom\u001b[0m\u001b[0;34m\u001b[0m\u001b[0;34m\u001b[0m\u001b[0m\n",
      "\u001b[0;31mModuleNotFoundError\u001b[0m: No module named 'matplotlib'"
     ]
    }
   ],
   "source": [
    "# Import libraries\n",
    "import matplotlib.pyplot as plt\n",
    "import random"
   ]
  },
  {
   "cell_type": "markdown",
   "metadata": {},
   "source": [
    "## Objectives & Outline\n",
    "\n",
    "Introduce important Data Science concepts from \"scratch\"\n",
    "\n",
    "* Histogram\n",
    "* Hands-on: Histogram\n",
    "* A/B Testing (classic statistical method)\n",
    "* Hypothesis testing, P-value\n",
    "* Multi-Arm Bandit (modern generalization, reinforcement learning)"
   ]
  },
  {
   "cell_type": "markdown",
   "metadata": {
    "toc-hr-collapsed": true
   },
   "source": [
    "## Histogram\n",
    "\n",
    "A graphical tool to **describe** and help understand the data\n",
    "\n",
    "* Provides a summary of the data\n",
    "* Shows the **distribution** of values in the data\n",
    "\n",
    "Example: Dice results"
   ]
  },
  {
   "cell_type": "markdown",
   "metadata": {},
   "source": [
    "### Roll a dice once\n",
    "\n",
    "We can simulate a dice roll using the `choice` **function** from the `random` **library** (imported above).\n",
    "\n",
    "* We pass a **list** with the dice numbers as the input to the `choice` function."
   ]
  },
  {
   "cell_type": "code",
   "execution_count": 2,
   "metadata": {},
   "outputs": [
    {
     "data": {
      "text/plain": [
       "4"
      ]
     },
     "execution_count": 2,
     "metadata": {},
     "output_type": "execute_result"
    }
   ],
   "source": [
    "random.choice([1, 2, 3, 4, 5, 6])"
   ]
  },
  {
   "cell_type": "markdown",
   "metadata": {},
   "source": [
    "Note: We can use `random.seed` to make the results reproducible (while still random)"
   ]
  },
  {
   "cell_type": "code",
   "execution_count": 3,
   "metadata": {},
   "outputs": [
    {
     "name": "stdout",
     "output_type": "stream",
     "text": [
      "4\n"
     ]
    }
   ],
   "source": [
    "random.seed(0)\n",
    "print(random.choice([1, 2, 3, 4, 5, 6]))"
   ]
  },
  {
   "cell_type": "code",
   "execution_count": 4,
   "metadata": {},
   "outputs": [
    {
     "name": "stdout",
     "output_type": "stream",
     "text": [
      "4\n",
      "4\n",
      "1\n",
      "3\n"
     ]
    }
   ],
   "source": [
    "random.seed(0)\n",
    "print(random.choice([1, 2, 3, 4, 5, 6]))\n",
    "print(random.choice([1, 2, 3, 4, 5, 6]))\n",
    "print(random.choice([1, 2, 3, 4, 5, 6]))\n",
    "print(random.choice([1, 2, 3, 4, 5, 6]))"
   ]
  },
  {
   "cell_type": "markdown",
   "metadata": {},
   "source": [
    "### Roll a dice `n` times\n",
    "\n",
    "Use a `for` **loop** to roll a (fair) dice `n` times, and record the results in the `dice_results` list.\n",
    "\n",
    "* **Question:** If `n = 60`, how many times do you expect to get the number `3`?"
   ]
  },
  {
   "cell_type": "code",
   "execution_count": 5,
   "metadata": {},
   "outputs": [
    {
     "name": "stdout",
     "output_type": "stream",
     "text": [
      "Roll# | Dice#\n",
      "  1       4\n",
      "  2       4\n",
      "  3       1\n",
      "  4       3\n",
      "  5       5\n",
      "  6       4\n",
      "  7       4\n",
      "  8       3\n",
      "  9       4\n",
      " 10       3\n",
      " 11       5\n",
      " 12       2\n",
      " 13       5\n",
      " 14       2\n",
      " 15       3\n",
      " 16       2\n",
      " 17       1\n",
      " 18       5\n",
      " 19       3\n",
      " 20       5\n",
      " 21       6\n",
      " 22       5\n",
      " 23       2\n",
      " 24       3\n",
      " 25       1\n",
      " 26       6\n",
      " 27       1\n",
      " 28       6\n",
      " 29       3\n",
      " 30       4\n",
      " 31       5\n",
      " 32       1\n",
      " 33       3\n",
      " 34       4\n",
      " 35       3\n",
      " 36       5\n",
      " 37       6\n",
      " 38       2\n",
      " 39       5\n",
      " 40       4\n",
      " 41       4\n",
      " 42       5\n",
      " 43       3\n",
      " 44       1\n",
      " 45       5\n",
      " 46       1\n",
      " 47       1\n",
      " 48       6\n",
      " 49       4\n",
      " 50       6\n",
      " 51       6\n",
      " 52       6\n",
      " 53       1\n",
      " 54       5\n",
      " 55       4\n",
      " 56       3\n",
      " 57       2\n",
      " 58       6\n",
      " 59       3\n",
      " 60       6\n"
     ]
    }
   ],
   "source": [
    "random.seed(0)\n",
    "n = 60\n",
    "dice_results = []\n",
    "\n",
    "print(\"Roll# | Dice#\")\n",
    "\n",
    "for i in range(n):\n",
    "    result = random.choice([1, 2, 3, 4, 5, 6])\n",
    "    print(f\"{i+1:3} {result:7}\")\n",
    "    dice_results.append(result)"
   ]
  },
  {
   "cell_type": "markdown",
   "metadata": {},
   "source": [
    "Show list with all the results:"
   ]
  },
  {
   "cell_type": "code",
   "execution_count": 9,
   "metadata": {},
   "outputs": [
    {
     "name": "stdout",
     "output_type": "stream",
     "text": [
      "[4, 4, 1, 3, 5, 4, 4, 3, 4, 3, 5, 2, 5, 2, 3, 2, 1, 5, 3, 5, 6, 5, 2, 3, 1, 6, 1, 6, 3, 4, 5, 1, 3, 4, 3, 5, 6, 2, 5, 4, 4, 5, 3, 1, 5, 1, 1, 6, 4, 6, 6, 6, 1, 5, 4, 3, 2, 6, 3, 6]\n"
     ]
    }
   ],
   "source": [
    "print(dice_results)"
   ]
  },
  {
   "cell_type": "markdown",
   "metadata": {},
   "source": [
    "### Tally dice results\n",
    "\n",
    "Tally the results, i.e., count how many times each of the 6 dice numbers showed up in the results:"
   ]
  },
  {
   "cell_type": "code",
   "execution_count": 10,
   "metadata": {},
   "outputs": [
    {
     "name": "stdout",
     "output_type": "stream",
     "text": [
      "Number   Count   Frequency   Frequency (%)\n",
      "------------------------------------------\n",
      "  1        9        0.15         15\n",
      "  2        6        0.10         10\n",
      "  3       12        0.20         20\n",
      "  4       11        0.18         18\n",
      "  5       12        0.20         20\n",
      "  6       10        0.17         17\n",
      "------------------------------------------\n",
      "Total     60        1.00        100\n"
     ]
    }
   ],
   "source": [
    "print(\"Number   Count   Frequency   Frequency (%)\")\n",
    "print(\"-\" * 42)\n",
    "\n",
    "for dice_number in [1, 2, 3, 4, 5, 6]:\n",
    "    count = dice_results.count(dice_number)\n",
    "    freq = count / n\n",
    "    print(f\"{dice_number:3} {count:8} {freq:11.2f} {100*freq:10.0f}\")\n",
    "\n",
    "print(\"-\" * 42)\n",
    "print(f\"Total {n:6} {1.00:11.2f} {100:10}\")"
   ]
  },
  {
   "cell_type": "markdown",
   "metadata": {},
   "source": [
    "**Important:** Frequency (or density) corresponds to **Probability**"
   ]
  },
  {
   "cell_type": "markdown",
   "metadata": {},
   "source": [
    "### Histogram(s) of dice results"
   ]
  },
  {
   "cell_type": "code",
   "execution_count": 11,
   "metadata": {
    "jupyter": {
     "source_hidden": true
    }
   },
   "outputs": [
    {
     "data": {
      "image/png": "[encoded data removed]",
      "text/plain": [
       "<Figure size 720x288 with 2 Axes>"
      ]
     },
     "metadata": {
      "needs_background": "light"
     },
     "output_type": "display_data"
    }
   ],
   "source": [
    "fig, (ax1, ax2) = plt.subplots(1, 2, figsize=(10, 4))\n",
    "\n",
    "dice_bins = [0.5, 1.5, 2.5, 3.5, 4.5, 5.5, 6.5]\n",
    "\n",
    "ax1.hist(dice_results, bins=dice_bins, density=False, edgecolor='black', color='lightblue')\n",
    "ax2.hist(dice_results, bins=dice_bins, density=True,  edgecolor='black', color='pink')\n",
    "\n",
    "ax1.set_title('(Count) Histogram of dice results')\n",
    "ax2.set_title('(Frequency) Histogram of dice results')\n",
    "\n",
    "ax1.set_xlabel('Dice Number')\n",
    "ax2.set_xlabel('Dice Number')\n",
    "\n",
    "ax1.set_ylabel('Count')\n",
    "ax2.set_ylabel('Frequency')\n",
    "\n",
    "fig.tight_layout(pad=4)"
   ]
  },
  {
   "cell_type": "markdown",
   "metadata": {
    "toc-hr-collapsed": true
   },
   "source": [
    "## Hands-on: Histogram\n",
    "\n",
    "Suppose we rolled a dice 30 times and obtained the following results:\n",
    "\n",
    "`[4, 4, 1, 3, 5, 4, 4, 3, 4, 3, 5, 2, 5, 2, 3, 2, 1, 5, 3, 5, 6, 5, 2, 3, 1, 6, 1, 6, 3, 4]`\n",
    "\n",
    "Do the following tasks manually (now) and with code (home):\n",
    "\n",
    "1. Compute the results (count) tally\n",
    "2. Draw the corresponding (count) histogram"
   ]
  },
  {
   "cell_type": "markdown",
   "metadata": {},
   "source": [
    "### Solution"
   ]
  },
  {
   "cell_type": "code",
   "execution_count": 12,
   "metadata": {},
   "outputs": [],
   "source": [
    "dice_res = [4, 4, 1, 3, 5, 4, 4, 3, 4, 3, 5, 2, 5, 2, 3, 2, 1, 5, 3, 5, 6, 5, 2, 3, 1, 6, 1, 6, 3, 4]\n",
    "\n",
    "# Write your solution here"
   ]
  },
  {
   "cell_type": "markdown",
   "metadata": {
    "toc-hr-collapsed": true
   },
   "source": [
    "## A/B Testing\n",
    "\n",
    "**A/B test:** an experiment to compare two competing ***options*** (A, B) to determine which one is ***better***.\n",
    "\n",
    "***Options:*** treatments (medical), designs (ad, web), products, etc\n",
    "\n",
    "Key terms:\n",
    "\n",
    "* **Treatment:** Something (e.g., drug) to which a subject is exposed\n",
    "* **Control group:** group of subjects exposed to no treatment (or standard treatment)\n",
    "* **Treatment group:** group of subjects exposed to the treatment\n",
    "* **Randomization:** process of randomly assigning subjects to the two groups\n",
    "* **Test statistic:** metric used to measure the effect of the treatment\n",
    "\n",
    "**Important point:** Because we use randomization, any difference between the two groups must be due to one of two things:\n",
    "\n",
    "* Random change in assignment of subjects\n",
    "* A real difference between A and B"
   ]
  },
  {
   "cell_type": "markdown",
   "metadata": {},
   "source": [
    "***General examples:***\n",
    "\n",
    "* Testing two therapies to determine which is more effective at suppressing cancer\n",
    "* Testing two prices to determine which yields a higher net profit\n",
    "* Testing two web headlines to determine which produces more clicks\n",
    "* Testing two web ads to determine which generates more conversions\n",
    "\n",
    "\n",
    "***Specific example:*** Microsoft / Bing example with 12% lift, $100 million revenue increase ([HBR](https://hbr.org/2017/09/the-surprising-power-of-online-experiments))"
   ]
  },
  {
   "cell_type": "markdown",
   "metadata": {},
   "source": [
    "### Web example introduction\n",
    "\n",
    "Web experiment (e-commerce) results table:\n",
    "\n",
    "|                    | Option A | Option B |\n",
    "| :----------------- | -------: | --------:|\n",
    "|Total               |    1,020 |      980 |\n",
    "|No Conversion       |      920 |      890 |\n",
    "|Conversion          |      100 |       90 |\n",
    "|Conversion Rate (%) |    9.8 % |    9.2 % |\n",
    "\n",
    "**Test statistic:** Conversion rate difference = 9.8 % - 9.2 % = 0.6 %\n",
    "\n",
    "* It could be meaninguful in a high-volume business\n",
    "* Is it (statistically) significant?\n",
    "\n",
    "Lets assign those values to **variables**, so that we can work with them in our code/program"
   ]
  },
  {
   "cell_type": "code",
   "execution_count": 13,
   "metadata": {},
   "outputs": [
    {
     "name": "stdout",
     "output_type": "stream",
     "text": [
      "Conversion Rates (%):\n",
      "    A: 9.8\n",
      "    B: 9.2\n",
      "  A-B: 0.6\n"
     ]
    }
   ],
   "source": [
    "# Totals\n",
    "a_total_count = 1020\n",
    "b_total_count = 980\n",
    "\n",
    "# Conversions (Successes) \n",
    "a_yes_count = 100\n",
    "b_yes_count =  90\n",
    "#b_yes_count =  70\n",
    "\n",
    "# Non-conversion (Failures)\n",
    "a_no_count = a_total_count - a_yes_count\n",
    "b_no_count = b_total_count - b_yes_count\n",
    "\n",
    "# Conversion rates (as percentage)\n",
    "a_yes_pct = 100 * a_yes_count / a_total_count\n",
    "b_yes_pct = 100 * b_yes_count / b_total_count\n",
    "\n",
    "# Test statistic: Conversion rates difference (as percentage points)\n",
    "ab_yes_pct_diff = a_yes_pct - b_yes_pct\n",
    "\n",
    "print(\"Conversion Rates (%):\")\n",
    "print(f\"    A: {a_yes_pct:.1f}\")\n",
    "print(f\"    B: {b_yes_pct:.1f}\")\n",
    "print(f\"  A-B: {ab_yes_pct_diff:.1f}\")"
   ]
  },
  {
   "cell_type": "markdown",
   "metadata": {
    "toc-hr-collapsed": true
   },
   "source": [
    "### Resampling - Permutation Test\n",
    "\n",
    "**Resampling:** repeatedly sample values from the observed data to assess a statistic's random variability\n",
    "\n",
    "**Permutation Test:**\n",
    "\n",
    "* A resampling procedure used for hypothesis testing\n",
    "* Process for combining two (or more) data samples together, and randomly (or exhaustively) reallocating the observations to resamples"
   ]
  },
  {
   "cell_type": "markdown",
   "metadata": {},
   "source": [
    "**Permutation Test Steps:**\n",
    "\n",
    "* **Step 1:** Combine the results from the two different groups (A and B) in a single data set (a `bag`)\n",
    "    * Each conversion (success) represented as a `1` (a ball with the number `1`)\n",
    "    * Each non-conversion (failure) represented as a `0` (a ball with the number `0`)\n",
    "* **Step 2:** Shuffle the `bag` (containing all the data / balls)\n",
    "* **Step 3:** Randomly draw (without replacement) a resample of the same size as group A (`a_total_count`)\n",
    "* **Step 4:** Randomly draw (without replacement) a resample of the same size as group B (`b_total_count`)\n",
    "    * All the remaining balls in the bag (after step 3) because we only have two groups\n",
    "* **Step 5:** Record the test statistic for the resamples\n",
    "    * Test statistic: Difference in conversion rates, as the difference in the proportion of 1s\n",
    "* **Step 6:** Repeat the steps 2 to 5 `p` times to yield a permutation distribution of the test statistic\n",
    "    * Each time is a different permutation\n",
    "    * Perform a sufficient large number of permutations `p` (e.g., 1000)"
   ]
  },
  {
   "cell_type": "code",
   "execution_count": 12,
   "metadata": {},
   "outputs": [],
   "source": [
    "random.seed(0)\n",
    "#number_of_permutations = 2\n",
    "number_of_permutations = 1000\n",
    "ab_resample_yes_pct_diff = []\n",
    "\n",
    "if number_of_permutations < 10:\n",
    "    verbose = True\n",
    "else:\n",
    "    verbose = False\n",
    "\n",
    "# Step 1: Combine all results from the two groups (A, B) in a \"bag\"\n",
    "ones = [1] * (a_yes_count + b_yes_count)\n",
    "zeros = [0] * (a_no_count + b_no_count)\n",
    "bag = ones + zeros\n",
    "all_set = set(range(len(bag)))\n",
    "if verbose:\n",
    "    print(\"Setup\")\n",
    "    print(\"- Step 1: Created bag (no shuffle yet)\")\n",
    "    print(\"  - Number of 1s in the bag         :\", len(ones))\n",
    "    print(\"  - Number of 0s in the bag         :\", len(zeros))\n",
    "    print(\"  - Total number of balls in the bag:\", len(bag))\n",
    "    print(\"  - Bag's first balls:\", bag[:30])\n",
    "    print(\"  - Bag's last balls :\", bag[-30:])\n",
    "\n",
    "# Step 6: Repeat steps 2 to 5 a \"large\" number of times\n",
    "for i in range(number_of_permutations):\n",
    "    \n",
    "    # Step 2: Shuffle the bag\n",
    "    random.shuffle(bag)\n",
    "    if verbose:\n",
    "        print(\"\\nPermutation\", i+1, \"of\", number_of_permutations)\n",
    "        print(\"- Step 2: Shuffled bag\")\n",
    "        print(\"  - Bag's first balls:\", bag[:30])\n",
    "    \n",
    "    # Step 3: Draw a random sample of size a_total_count\n",
    "    a_set = random.sample(all_set, a_total_count)\n",
    "    a_resample = [bag[i] for i in a_set]\n",
    "    if verbose:\n",
    "        print(\"- Step 3: Draw resample for group A\")\n",
    "        print(\"  - Resample size             :\", len(a_resample))\n",
    "        print(\"  - Number of 1s (conversions):\", sum(a_resample))\n",
    "    \n",
    "    # Step 4: Draw a radom sample of size b_total_count (the reamining balls in the bag)\n",
    "    b_set = all_set.difference(a_set)\n",
    "    b_resample = [bag[i] for i in b_set]\n",
    "    if verbose:\n",
    "        print(\"- Step 4: Draw resample for group B\")\n",
    "        print(\"  - Resample size             :\", len(b_resample))\n",
    "        print(\"  - Number of 1s (conversions):\", sum(b_resample))\n",
    "    \n",
    "    # Step 5: Record the difference in the proportion of 1s\n",
    "    a_resample_yes_pct = 100 * (sum(a_resample) / len(a_resample))\n",
    "    b_resample_yes_pct = 100 * (sum(b_resample) / len(b_resample))\n",
    "    ab_diff = a_resample_yes_pct - b_resample_yes_pct\n",
    "    ab_resample_yes_pct_diff.append(ab_diff)\n",
    "    if verbose:\n",
    "        print(\"- Step 5: Record difference in conversion rates\")\n",
    "        print(f\"  - Resample A conversion rate (%): {a_resample_yes_pct:.2f}\")\n",
    "        print(f\"  - Resample B conversion rate (%): {b_resample_yes_pct:.2f}\")\n",
    "        print(f\"  - Difference (A - B) (%)        : {ab_diff:.2f}\")"
   ]
  },
  {
   "cell_type": "code",
   "execution_count": 13,
   "metadata": {},
   "outputs": [
    {
     "data": {
      "text/plain": [
       "1000"
      ]
     },
     "execution_count": 13,
     "metadata": {},
     "output_type": "execute_result"
    }
   ],
   "source": [
    "number_of_permutations"
   ]
  },
  {
   "cell_type": "code",
   "execution_count": 14,
   "metadata": {},
   "outputs": [
    {
     "name": "stdout",
     "output_type": "stream",
     "text": [
      "[-0.9803921568627452, -0.7803121248499405, -0.7803121248499405, -1.9807923169267703, 0.42016806722689104, -3.1812725090036027, 3.021208483393358, 0.020008003201279934, 3.6214485794317737, -1.3805522208883545, 0.22008803521408637, 1.4205682272909161, 0.6202480992396957, -1.580632252901161, 1.0204081632653068, 3.021208483393358, 0.42016806722689104, 1.0204081632653068, -0.18007202881152473, 0.42016806722689104]\n"
     ]
    }
   ],
   "source": [
    "print(ab_resample_yes_pct_diff[:20])"
   ]
  },
  {
   "cell_type": "code",
   "execution_count": 15,
   "metadata": {},
   "outputs": [
    {
     "data": {
      "text/plain": [
       "0.6202480992396957"
      ]
     },
     "execution_count": 15,
     "metadata": {},
     "output_type": "execute_result"
    }
   ],
   "source": [
    "ab_yes_pct_diff"
   ]
  },
  {
   "cell_type": "code",
   "execution_count": 16,
   "metadata": {},
   "outputs": [
    {
     "data": {
      "image/png": "[encoded data removed]",
      "text/plain": [
       "<Figure size 432x288 with 1 Axes>"
      ]
     },
     "metadata": {
      "needs_background": "light"
     },
     "output_type": "display_data"
    }
   ],
   "source": [
    "plt.hist(ab_resample_yes_pct_diff, color='lightblue')\n",
    "plt.axvline(x = ab_yes_pct_diff, color='red')\n",
    "plt.show()"
   ]
  },
  {
   "cell_type": "code",
   "execution_count": 17,
   "metadata": {},
   "outputs": [
    {
     "name": "stdout",
     "output_type": "stream",
     "text": [
      "Number of permutations                : 1000\n",
      "Number of higher values               : 347\n",
      "Ratio of higher values (p-value)      : 0.347\n",
      "Percent of higher values (p-value) (%): 34.70\n"
     ]
    }
   ],
   "source": [
    "higher_count = len(list(filter(lambda x: x >= ab_yes_pct_diff, ab_resample_yes_pct_diff)))\n",
    "higher_ratio = higher_count / number_of_permutations\n",
    "higher_pct = 100 * higher_ratio\n",
    "print(\"Number of permutations                :\", number_of_permutations)\n",
    "print(\"Number of higher values               :\", higher_count)\n",
    "print(f\"Ratio of higher values (p-value)      : {higher_ratio:.3f}\")\n",
    "print(f\"Percent of higher values (p-value) (%): {higher_pct:.2f}\")"
   ]
  },
  {
   "cell_type": "markdown",
   "metadata": {},
   "source": [
    "## Hypothesis testing, P-value\n",
    "\n",
    "**Hypothesis test** (or ***significance test***): used to determine whether random chance might be responsible for an observed effect\n",
    "\n",
    "* **Null hypothesis:** The hypothesis that chance is to blame\n",
    "* **Alternative hypothesis:** Counterpoint to the null (what you hope to prove)\n",
    "\n",
    "Important points:\n",
    "\n",
    "* A **null hypothesis** is a logic construct embodying the notion that nothing special has happened, and any effect you observe is due to random chance.\n",
    "* The **hypothesis test** assumes that the null hypothesis is true, creates a \"null model\" (a probability model), and tests whether the effect you observe is a reasonable outcome of that model.\n",
    "\n",
    "**P-value:** given a chance model that embodies the null hypothesis, the p-value is the probability of obtaining results as unusual / extreme as the observed result.\n",
    "\n",
    "**Alpha:** The probability threshold of \"unusualness\" (typically 0.05 or 5\\%). Must be defined before the experiment\n",
    "\n",
    "**Decision:**\n",
    "\n",
    "* `p-value > alpha`: retain the null hypothesis - observed effect due to chance\n",
    "* `p-value < alpha`: reject the null hypothesis - observed effect is real/significant\n",
    "\n",
    "**Type I error (false positive):** Mistakenly concluding that an effect is real (when it is due to chance)\n",
    "\n",
    "**Type II error (false negative):** Mistakenly concluding that an effect is due to chance (when it is real)"
   ]
  },
  {
   "cell_type": "markdown",
   "metadata": {
    "toc-hr-collapsed": true
   },
   "source": [
    "## Multi-Arm Bandit\n",
    "\n",
    "The Multi-Arm Bandit algorithm is a modern generalization of A/B testing, which uses a **reinforcement learning** approach to not just compare but also **exploit** multiple options (A, B, C, ..., N) at the same time (in real time).\n",
    "\n",
    "**Reinforcement learning** approach because it learns and adjusts at every step.\n",
    "\n",
    "Multi-Arm Bandit name comes from slot machine analogy."
   ]
  },
  {
   "cell_type": "markdown",
   "metadata": {},
   "source": [
    "### Epsilon-greedy algorithm (Multi-Arm Bandit)\n",
    "\n",
    "This algorithm has only one parameter: `epsilon`, a number between 0 and 1 (typically small)\n",
    "\n",
    "**Epsilon-greedy algorithm for A/B test:**\n",
    "\n",
    "* Step 1: Generate a random number between 0 and 1 (`r`), and compare it with `epsilon`\n",
    "* Step 2: If `r` is smaller than `epsilon`, then flip a fair coin (50/50 probability), and:\n",
    "    * If the coin is heads, show option A\n",
    "    * If the coin is tails, show option B\n",
    "* Step 3: Otherwise, if `r` is equal or larger then `epsilon`, then show which of the two options has had the highest response rate to date.\n",
    "\n",
    "Note: If `epsilon = 1` we end up with the simple A/B test\n",
    "\n",
    "**Epsilon-greedy algorithm for multiple arms/options (A, B, C, ..., N):**\n",
    "\n",
    "* Step 1: Generate a random number between 0 and 1 (`r`), and compare it with `epsilon`\n",
    "* Step 2: If `r` is smaller than `epsilon`, then randomly select one of the `N` arms/options\n",
    "* Step 3: Otherwise, if `r` is equal or larger then `epsilon`, then show which of the `N` options has had the highest response rate to date."
   ]
  },
  {
   "cell_type": "markdown",
   "metadata": {},
   "source": [
    "## Learn More\n",
    "\n",
    "Book: \"Practical Statistics for Data Scientists\", by Peter Bruce et al\n",
    "\n",
    "### Bootcamps\n",
    "\n",
    "The deadline to apply to our Summer Bootcamps is extended until **Friday, June 26**.\n",
    "\n",
    "* [Submit your application](https://nycdatascience.com/data-science-bootcamp/?utm_source=june_2020_workshops&utm_medium=events&utm_campaign=july_2020_bootcamps&utm_content=learn-ab-testing-and-multiarm-bandit) to our 12-week Remote Live Bootcamp and learn data science in real-time.\n",
    "* [Submit your application](https://nycdatascience.com/online-data-science-bootcamp/?utm_source=june_2020_workshops&utm_medium=events&utm_campaign=july_2020_bootcamps&utm_content=learn-ab-testing-and-multiarm-bandit) to our 16- or 24-week Online Bootcamp and learn data science on your own schedule.\n",
    "\n",
    "Complete your enrollment by June 26 and receive a **10\\% discount ($1,760 savings)** on your bootcamp tuition. [Get started today](https://nycdatascience.com/blog/data-science-news-and-sharing/launch-your-data-science-career-from-home-while-saving-10-1760-on-your-tuition/?utm_source=june_2020_workshops&utm_medium=events&utm_campaign=july_2020_bootcamps&utm_content=learn-ab-testing-and-multiarm-bandit).\n"
   ]
  },
  {
   "cell_type": "markdown",
   "metadata": {},
   "source": [
    "## Q & A\n",
    "\n",
    "Questions"
   ]
  }
 ],
 "metadata": {
  "kernelspec": {
   "display_name": "Python 3",
   "language": "python",
   "name": "python3"
  },
  "language_info": {
   "codemirror_mode": {
    "name": "ipython",
    "version": 3
   },
   "file_extension": ".py",
   "mimetype": "text/x-python",
   "name": "python",
   "nbconvert_exporter": "python",
   "pygments_lexer": "ipython3",
   "version": "3.7.7"
  }
 },
 "nbformat": 4,
 "nbformat_minor": 4
}
